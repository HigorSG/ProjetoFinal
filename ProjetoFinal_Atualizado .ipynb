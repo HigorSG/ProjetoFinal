{
  "nbformat": 4,
  "nbformat_minor": 0,
  "metadata": {
    "colab": {
      "provenance": []
    },
    "kernelspec": {
      "name": "python3",
      "display_name": "Python 3"
    },
    "language_info": {
      "name": "python"
    }
  },
  "cells": [
    {
      "cell_type": "markdown",
      "source": [
        "Projeto Final\n",
        "\n",
        "GIOVANNA GAMA BAIA \n",
        "\n",
        "ra: 11202231415\n",
        "\n",
        "HIGOR SANTOS GUIMARAES\n",
        "\n",
        "ra:11202232043\n"
      ],
      "metadata": {
        "id": "jlux00jsQnzs"
      }
    },
    {
      "cell_type": "markdown",
      "source": [
        "\n",
        "\n",
        "#Calculadora para equação de 2ºgrau (Bases Matemáticas)\n"
      ],
      "metadata": {
        "id": "lVKGO_JL3o9v"
      }
    },
    {
      "cell_type": "markdown",
      "source": [
        " Em Bases Matematicas foi muito utilizado  a calculadora científica para o auxilio de calculos de funções logarítmicas e trigonométricas, regressões, partes exponenciais, inversas, entre muitas outras funções. Neste projeto, mostraremos o codigo para calculo de uma função de segundo grau.\n",
        " \n",
        "\n",
        "\n",
        "\n",
        "\n",
        "\n",
        "#**Operações aritméticas básicas utilizadas no codigo:**\n",
        "\n",
        "*  multiplicação: *\n",
        "*  divisão: /\n",
        "\n",
        "*  adição: +\n",
        "*  subtração: -\n",
        "\n",
        "\n",
        "*   potência: **\n",
        "*   resto: %\n",
        "*   raiz quadrada: np.sqrt()\n",
        "\n",
        "\n",
        "#**Bibliotecas necessárias:**\n",
        "*   Para usar funções mais complexas, é necessário importar  a biblioteca Numpy: **import numpy as np**\n",
        "\n",
        "\n",
        "*    A biblioteca 'np.' tem diversas funções. Por exemplo, a função raiz quadrada é utilizada com: **np.sqrt()**.  Com o comando 'np.arange', você cria vetores com os limites e o intervalo entre os elementos.\n",
        "*    Para obter o resultado de uma ou mais operações nas células, é necessário usar o comando 'print'\n",
        "\n",
        "* Para fazer um gráfico no Python, deve-se importar a biblioteca matplotlib: **import matplotlib.pyplot as plt**\n",
        "\n",
        "\n",
        "#**Usando na prática**\n",
        "Uma função é classificada como de segundo grau quando  pode ser expressa na forma de y = ax² + bx + c, ou seja, ela precisa ter ao menos uma incógnita elevada ao quadrado, sendo assim, o coeficiente “a” obrigatoriamente precisa ser diferente de zero. \n",
        "As fórmulas necessárias são:\n",
        "* Cálculo do delta: **b² – (4.a.c)**\n",
        "\n",
        "* Fórmula de Bhaskara: **(-b ± √Δ) / 2.a**\n",
        "\n",
        "#**Comandos utilizados**\n",
        "* Input: Comando usado para entrada de dados pelo usuario.\n",
        "* DEF  : usado pada definir uma função."
      ],
      "metadata": {
        "id": "xI2rneGS5kWF"
      }
    },
    {
      "cell_type": "code",
      "source": [
        "import numpy as np\n",
        "import matplotlib.pyplot as plt\n",
        "\n",
        "\n",
        "\n",
        "a = int(input(\"Digite Valor de a: \"))\n",
        "b = int(input(\"Digite Valor de b: \"))\n",
        "c = int(input(\"Digite Valor de c: \"))\n",
        "\n",
        "def calculo (a,b,c):\n",
        "\n",
        "  A = (b**2) - (4*a*c)  # Calcuculo para Delta\n",
        "\n",
        "  if (A < 0):\n",
        "   \n",
        "    print(\"Não tem raizes reais\")\n",
        "  \n",
        "  elif ( A == 0):\n",
        "    f = -b / (2*a)\n",
        "   \n",
        "    print(\"Duas raizes iguais de valor:\" , f)\n",
        "\n",
        "  else:\n",
        "    x1 = (-b + np.sqrt(A)) / (2*a)\n",
        "    x2 = (-b - np.sqrt(A)) / (2*a)\n",
        "    print(\"As raizes são:\",)\n",
        "    print(\"x1 = \", x1)\n",
        "    print(\"x2 = \", x2)\n",
        "\n",
        "\n",
        "\n",
        "x = np.arange(-10, 11, 1)\n",
        "\n",
        "y = ((a * (x ** 2)) + (b * x) + c)\n",
        "\n",
        "plt.figure(figsize=(13,8))\n",
        "plt.plot(x, y, color = 'blue', linestyle = '-')\n",
        "plt.title('Grafico da Função')\n",
        "plt.xlabel('Eixo x', fontsize=20)\n",
        "plt.ylabel('Eixo y', fontsize=20)\n",
        "plt.grid()\n",
        "plt.show()\n",
        "\n",
        "calculo (a,b,c)"
      ],
      "metadata": {
        "id": "1A1sGseZcjqs",
        "colab": {
          "base_uri": "https://localhost:8080/",
          "height": 595
        },
        "outputId": "02a772ab-f1c5-48c4-bf3b-bf8bf2827c94"
      },
      "execution_count": null,
      "outputs": [
        {
          "name": "stdout",
          "output_type": "stream",
          "text": [
            "Digite Valor de a: 7\n",
            "Digite Valor de b: 5\n",
            "Digite Valor de c: 8\n"
          ]
        },
        {
          "output_type": "display_data",
          "data": {
            "text/plain": [
              "<Figure size 936x576 with 1 Axes>"
            ],
            "image/png": "[encoded data removed]"
          },
          "metadata": {
            "needs_background": "light"
          }
        },
        {
          "output_type": "stream",
          "name": "stdout",
          "text": [
            "Não tem raizes reais\n"
          ]
        }
      ]
    },
    {
      "cell_type": "markdown",
      "source": [
        "# Referências\n",
        "\n",
        "* CAPUTI, Armando; MIRANDA, Daniel. Bases Matemáticas. Versão 13. ed. Santo Andre: Universidade Federal do ABC, 2017.\n",
        "\n",
        "* SILVA, Márcio. Matemática Básica. Santo Andre: Universidade Federal do ABC, 2020."
      ],
      "metadata": {
        "id": "KqabHiXlSrBj"
      }
    }
  ]
}